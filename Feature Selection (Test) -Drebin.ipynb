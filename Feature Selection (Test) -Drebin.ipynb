{
 "cells": [
  {
   "cell_type": "code",
   "execution_count": 1,
   "metadata": {},
   "outputs": [],
   "source": [
    "import pandas as pd\n",
    "import numpy as np\n",
    "import matplotlib.pyplot as plt"
   ]
  },
  {
   "cell_type": "code",
   "execution_count": 2,
   "metadata": {},
   "outputs": [],
   "source": [
    "#import data \n",
    "data=pd.read_csv(\"C:/Users/Ayushi Chaudhuri/Desktop/Malware 2.0/Malware-drebin - Copy/data/drebin-215-dataset-5560malware-9476-benign.csv\", header=None)"
   ]
  },
  {
   "cell_type": "code",
   "execution_count": 3,
   "metadata": {},
   "outputs": [
    {
     "data": {
      "text/plain": [
       "(15036, 216)"
      ]
     },
     "execution_count": 3,
     "metadata": {},
     "output_type": "execute_result"
    }
   ],
   "source": [
    "data.shape"
   ]
  },
  {
   "cell_type": "code",
   "execution_count": 4,
   "metadata": {},
   "outputs": [],
   "source": [
    "ro,col = data.shape"
   ]
  },
  {
   "cell_type": "code",
   "execution_count": 5,
   "metadata": {},
   "outputs": [],
   "source": [
    "X = data.iloc[:,range(0,col-1)] #Feature set\n",
    "y = data.iloc[:,col-1] #Class labels S, B --> Binary Classification \n"
   ]
  },
  {
   "cell_type": "markdown",
   "metadata": {},
   "source": [
    "# Univariate Feature Selection for Logistic Regression"
   ]
  },
  {
   "cell_type": "code",
   "execution_count": 7,
   "metadata": {},
   "outputs": [
    {
     "name": "stdout",
     "output_type": "stream",
     "text": [
      "--------------------------------\n",
      "Percentage: 0.8\n",
      "Selected feature:172\n",
      "Accuracy:0.9780585106382979\n",
      "F1-score:0.9688972667295005\n",
      "MCC-score:0.9519574063681929\n",
      "--------------------------------\n",
      "--------------------------------\n",
      "Percentage: 0.82\n",
      "Selected feature:176\n",
      "Accuracy:0.9787234042553191\n",
      "F1-score:0.9698681732580038\n",
      "MCC-score:0.9534283153370361\n",
      "--------------------------------\n",
      "--------------------------------\n",
      "Percentage: 0.84\n",
      "Selected feature:180\n",
      "Accuracy:0.9780585106382979\n",
      "F1-score:0.9688972667295005\n",
      "MCC-score:0.9519574063681929\n",
      "--------------------------------\n",
      "--------------------------------\n",
      "Percentage: 0.86\n",
      "Selected feature:184\n",
      "Accuracy:0.9783909574468085\n",
      "F1-score:0.96938294865756\n",
      "MCC-score:0.9526927664863191\n",
      "--------------------------------\n",
      "--------------------------------\n",
      "Percentage: 0.88\n",
      "Selected feature:189\n",
      "Accuracy:0.9773936170212766\n",
      "F1-score:0.967984934086629\n",
      "MCC-score:0.9505173202370221\n",
      "--------------------------------\n",
      "--------------------------------\n",
      "Percentage: 0.9\n",
      "Selected feature:193\n",
      "Accuracy:0.9780585106382979\n",
      "F1-score:0.9688972667295005\n",
      "MCC-score:0.9519574063681929\n",
      "--------------------------------\n"
     ]
    }
   ],
   "source": [
    "import math\n",
    "from sklearn.feature_selection import SelectKBest\n",
    "from sklearn.feature_selection import chi2\n",
    "\n",
    "from sklearn import preprocessing\n",
    "lb = preprocessing.LabelBinarizer()\n",
    "yb = lb.fit_transform(y).ravel()\n",
    "\n",
    "from sklearn.model_selection import train_test_split\n",
    "from sklearn.linear_model import LogisticRegression\n",
    "\n",
    "from sklearn.metrics import confusion_matrix\n",
    "from sklearn.metrics import matthews_corrcoef\n",
    "from sklearn.metrics import f1_score, accuracy_score\n",
    "\n",
    "\n",
    "#selection_percentage = [.25,.40,.55,.70,.85,1]\n",
    "selection_percentage = [.80,.82,.84,.86,.88,.90]\n",
    "results_all =[]\n",
    "\n",
    "all_importance = []\n",
    "\n",
    "for i in selection_percentage:\n",
    "    sl = math.floor((col-1)*i)\n",
    "    X_new = SelectKBest(chi2, k=sl).fit_transform(X, y)\n",
    "    X_train,X_test, y_train, y_test =train_test_split(X_new,yb,test_size=0.20, random_state = 40)\n",
    "    clf = LogisticRegression(random_state=100,solver='saga',max_iter=300).fit(X_train, y_train)\n",
    "    \n",
    "    # get importance\n",
    "    importance = clf.coef_[0]\n",
    "    \n",
    "    all_importance.append(importance)\n",
    "    \n",
    "    y_pred_lr =clf.predict(X_test)\n",
    "    \n",
    "    mc_lr=matthews_corrcoef(y_test, y_pred_lr)\n",
    "    f1_lr=f1_score(y_test, y_pred_lr)\n",
    "\n",
    "    acc_lr= accuracy_score(y_test, y_pred_lr)\n",
    "    print('--------------------------------')\n",
    "    print('Percentage: {}'.format(i))\n",
    "    print('Selected feature:{}'.format(sl))\n",
    "    print('Accuracy:{}'.format(acc_lr))\n",
    "    print('F1-score:{}'.format(f1_lr))\n",
    "    print('MCC-score:{}'.format(mc_lr))\n",
    "    print('--------------------------------')\n",
    "    \n",
    "    results_all.append([i, sl, acc_lr,f1_lr,mc_lr])"
   ]
  },
  {
   "cell_type": "code",
   "execution_count": 8,
   "metadata": {},
   "outputs": [
    {
     "data": {
      "text/html": [
       "<div>\n",
       "<style scoped>\n",
       "    .dataframe tbody tr th:only-of-type {\n",
       "        vertical-align: middle;\n",
       "    }\n",
       "\n",
       "    .dataframe tbody tr th {\n",
       "        vertical-align: top;\n",
       "    }\n",
       "\n",
       "    .dataframe thead th {\n",
       "        text-align: right;\n",
       "    }\n",
       "</style>\n",
       "<table border=\"1\" class=\"dataframe\">\n",
       "  <thead>\n",
       "    <tr style=\"text-align: right;\">\n",
       "      <th></th>\n",
       "      <th>0</th>\n",
       "      <th>1</th>\n",
       "      <th>2</th>\n",
       "      <th>3</th>\n",
       "      <th>4</th>\n",
       "    </tr>\n",
       "  </thead>\n",
       "  <tbody>\n",
       "    <tr>\n",
       "      <th>0</th>\n",
       "      <td>0.80</td>\n",
       "      <td>172</td>\n",
       "      <td>0.978059</td>\n",
       "      <td>0.968897</td>\n",
       "      <td>0.951957</td>\n",
       "    </tr>\n",
       "    <tr>\n",
       "      <th>1</th>\n",
       "      <td>0.82</td>\n",
       "      <td>176</td>\n",
       "      <td>0.978723</td>\n",
       "      <td>0.969868</td>\n",
       "      <td>0.953428</td>\n",
       "    </tr>\n",
       "    <tr>\n",
       "      <th>2</th>\n",
       "      <td>0.84</td>\n",
       "      <td>180</td>\n",
       "      <td>0.978059</td>\n",
       "      <td>0.968897</td>\n",
       "      <td>0.951957</td>\n",
       "    </tr>\n",
       "    <tr>\n",
       "      <th>3</th>\n",
       "      <td>0.86</td>\n",
       "      <td>184</td>\n",
       "      <td>0.978391</td>\n",
       "      <td>0.969383</td>\n",
       "      <td>0.952693</td>\n",
       "    </tr>\n",
       "    <tr>\n",
       "      <th>4</th>\n",
       "      <td>0.88</td>\n",
       "      <td>189</td>\n",
       "      <td>0.977394</td>\n",
       "      <td>0.967985</td>\n",
       "      <td>0.950517</td>\n",
       "    </tr>\n",
       "    <tr>\n",
       "      <th>5</th>\n",
       "      <td>0.90</td>\n",
       "      <td>193</td>\n",
       "      <td>0.978059</td>\n",
       "      <td>0.968897</td>\n",
       "      <td>0.951957</td>\n",
       "    </tr>\n",
       "  </tbody>\n",
       "</table>\n",
       "</div>"
      ],
      "text/plain": [
       "      0    1         2         3         4\n",
       "0  0.80  172  0.978059  0.968897  0.951957\n",
       "1  0.82  176  0.978723  0.969868  0.953428\n",
       "2  0.84  180  0.978059  0.968897  0.951957\n",
       "3  0.86  184  0.978391  0.969383  0.952693\n",
       "4  0.88  189  0.977394  0.967985  0.950517\n",
       "5  0.90  193  0.978059  0.968897  0.951957"
      ]
     },
     "execution_count": 8,
     "metadata": {},
     "output_type": "execute_result"
    }
   ],
   "source": [
    "results_all = pd.DataFrame(results_all)\n",
    "results_all"
   ]
  },
  {
   "cell_type": "code",
   "execution_count": 9,
   "metadata": {},
   "outputs": [
    {
     "data": {
      "image/png": "[encoded data removed]",
      "text/plain": [
       "<Figure size 432x288 with 1 Axes>"
      ]
     },
     "metadata": {
      "needs_background": "light"
     },
     "output_type": "display_data"
    }
   ],
   "source": [
    "import matplotlib.pyplot as plt \n",
    "plt.plot(results_all.iloc[:,0],results_all.iloc[:,2], 'o--') #percentage selection vs accuracy\n",
    "plt.xlabel('% of feature selected')\n",
    "plt.ylabel('Accurcay')\n",
    "plt.show()"
   ]
  },
  {
   "cell_type": "code",
   "execution_count": 41,
   "metadata": {},
   "outputs": [
    {
     "name": "stdout",
     "output_type": "stream",
     "text": [
      "Max accurcay is 97.87% for 82.0% of the whole features\n"
     ]
    },
    {
     "data": {
      "image/png": "[encoded data removed]",
      "text/plain": [
       "<Figure size 432x288 with 1 Axes>"
      ]
     },
     "metadata": {
      "needs_background": "light"
     },
     "output_type": "display_data"
    }
   ],
   "source": [
    "acc= results_all.iloc[:,2] #acuracy values\n",
    "max_indx = np.argmax(acc)\n",
    "importance  = all_importance[max_indx] #fetching max accurcay parameters of LR\n",
    "\n",
    "#summarize feature importance\n",
    "# for i,v in enumerate(importance):\n",
    "#     print('Feature: %0d, Score: %.5f' % (i,v))\n",
    "\n",
    "print('Max accurcay is {}% for {}% of the whole features'.format(round(acc[max_indx]*100,2),selection_percentage[max_indx]*100))\n",
    "#plot feature importance\n",
    "plt.bar([X for X in range(len(importance))], importance)\n",
    "plt.xlabel('Feature index')\n",
    "plt.ylabel('Importance based on LR weights')\n",
    "plt.show()"
   ]
  },
  {
   "cell_type": "code",
   "execution_count": 29,
   "metadata": {},
   "outputs": [
    {
     "name": "stdout",
     "output_type": "stream",
     "text": [
      "Selected indices based on importance Features are:\n",
      "[  5   6   9  12  13  20  21  22  25  29  30  31  33  34  41  42  43  44\n",
      "  45  50  52  56  59  61  63  64  68  77  78  79  80  82  83  92  94  95\n",
      "  96  98 102 103 109 110 113 115 118 121 122 123 125 126 128 129 131 133\n",
      " 134 139 141 145 147 151 153 156 158 159 160 161 163 167 170 174]\n"
     ]
    }
   ],
   "source": [
    "indx = np.where(importance >0)\n",
    "np.size(indx)\n",
    "selection=[]\n",
    "selection.append(indx)\n",
    "selection = selection[0][0]\n",
    "print('Selected indices based on importance Features are:')\n",
    "print(selection)\n",
    "\n",
    "# X_selected = X.iloc[:,selection]\n",
    "# y_selected = yb.iloc[selection,0]"
   ]
  },
  {
   "cell_type": "code",
   "execution_count": null,
   "metadata": {},
   "outputs": [],
   "source": []
  }
 ],
 "metadata": {
  "kernelspec": {
   "display_name": "Python 3",
   "language": "python",
   "name": "python3"
  },
  "language_info": {
   "codemirror_mode": {
    "name": "ipython",
    "version": 3
   },
   "file_extension": ".py",
   "mimetype": "text/x-python",
   "name": "python",
   "nbconvert_exporter": "python",
   "pygments_lexer": "ipython3",
   "version": "3.6.13"
  }
 },
 "nbformat": 4,
 "nbformat_minor": 2
}
